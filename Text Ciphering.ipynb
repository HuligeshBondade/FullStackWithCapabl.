{
 "cells": [
  {
   "cell_type": "code",
   "execution_count": 3,
   "id": "1102f8ae",
   "metadata": {},
   "outputs": [],
   "source": [
    "msg = \"mission Accomplished\""
   ]
  },
  {
   "cell_type": "code",
   "execution_count": 4,
   "id": "3ce480d1",
   "metadata": {},
   "outputs": [
    {
     "data": {
      "text/plain": [
       "'dehsilpmoccA noissim'"
      ]
     },
     "execution_count": 4,
     "metadata": {},
     "output_type": "execute_result"
    }
   ],
   "source": [
    "msg[::-1]"
   ]
  },
  {
   "cell_type": "markdown",
   "id": "14c44903",
   "metadata": {},
   "source": [
    "## Text Ciphering"
   ]
  },
  {
   "cell_type": "code",
   "execution_count": 31,
   "id": "659bc922",
   "metadata": {},
   "outputs": [],
   "source": [
    "def cipher(ch):\n",
    "    return chr(ord(ch) + 1)\n",
    "    \n",
    "#cipher('u')"
   ]
  },
  {
   "cell_type": "code",
   "execution_count": 32,
   "id": "144b92d6",
   "metadata": {},
   "outputs": [
    {
     "name": "stdout",
     "output_type": "stream",
     "text": [
      "Ifmmp-!ipx!bsf!zpv!epjoh\n"
     ]
    }
   ],
   "source": [
    "enc = ''\n",
    "\n",
    "for i in 'Hello, how are you doing':\n",
    "    ch = cipher(i)\n",
    "    enc += ch\n",
    "    \n",
    "print(enc)\n"
   ]
  },
  {
   "cell_type": "markdown",
   "id": "bcc289b7",
   "metadata": {},
   "source": [
    "## Text Deciphering"
   ]
  },
  {
   "cell_type": "code",
   "execution_count": 38,
   "id": "082bc813",
   "metadata": {},
   "outputs": [],
   "source": [
    "def decipher(ch):\n",
    "    return chr(ord(ch) - 1)\n"
   ]
  },
  {
   "cell_type": "code",
   "execution_count": 39,
   "id": "a1f7ff61",
   "metadata": {},
   "outputs": [
    {
     "name": "stdout",
     "output_type": "stream",
     "text": [
      "Hello, how are you doing\n"
     ]
    }
   ],
   "source": [
    "dec = ''\n",
    "\n",
    "for i in enc:\n",
    "    dec += decipher(i)\n",
    "    \n",
    "print(dec)"
   ]
  },
  {
   "cell_type": "code",
   "execution_count": null,
   "id": "b6d80f97",
   "metadata": {},
   "outputs": [],
   "source": []
  },
  {
   "cell_type": "markdown",
   "id": "708ab5bc",
   "metadata": {},
   "source": [
    "## Text Cipher to n-places"
   ]
  },
  {
   "cell_type": "code",
   "execution_count": 67,
   "id": "8bd8c99a",
   "metadata": {},
   "outputs": [
    {
     "name": "stdout",
     "output_type": "stream",
     "text": [
      "enter the message:hello i see you and u are beautifull\n",
      "enter the key788992\n",
      "~{",
      "66{{6",
      "6wz66w{6x{w|\n"
     ]
    }
   ],
   "source": [
    "msg = str(input(\"enter the message:\"))\n",
    "key = int(input('enter the key'))\n",
    "\n",
    "def cipher(ch,key):\n",
    "    key = key%65\n",
    "    return chr(ord(ch) + key)\n",
    "\n",
    "enc = ''\n",
    "\n",
    "for i in msg:\n",
    "    ch = cipher(i,key)\n",
    "    enc += ch\n",
    "    \n",
    "print(enc)\n"
   ]
  },
  {
   "cell_type": "code",
   "execution_count": 68,
   "id": "9c687d1f",
   "metadata": {},
   "outputs": [
    {
     "name": "stdout",
     "output_type": "stream",
     "text": [
      "hello i see you and u are beautifull\n"
     ]
    }
   ],
   "source": [
    "def decipher(ch,key):\n",
    "    key = key%65\n",
    "    return chr(ord(ch) - key)\n",
    "\n",
    "dec = ''\n",
    "\n",
    "for i in enc:\n",
    "    dec += decipher(i,key)\n",
    "    \n",
    "print(dec)\n"
   ]
  },
  {
   "cell_type": "markdown",
   "id": "54c3cb56",
   "metadata": {},
   "source": [
    "## Cracking Algorithm (Brute-force)"
   ]
  },
  {
   "cell_type": "code",
   "execution_count": 70,
   "id": "88e52318",
   "metadata": {},
   "outputs": [
    {
     "name": "stdout",
     "output_type": "stream",
     "text": [
      "~{",
      "66{{6",
      "6wz66w{6x{w|\n"
     ]
    }
   ],
   "source": [
    "print(enc)"
   ]
  },
  {
   "cell_type": "code",
   "execution_count": 71,
   "id": "31f1f889",
   "metadata": {},
   "outputs": [],
   "source": [
    "otp = 339203"
   ]
  },
  {
   "cell_type": "code",
   "execution_count": 72,
   "id": "20a62772",
   "metadata": {},
   "outputs": [
    {
     "name": "stdout",
     "output_type": "stream",
     "text": [
      "339203\n"
     ]
    }
   ],
   "source": [
    "for i in range(100000,999999):\n",
    "    if(i == otp):\n",
    "        print(otp)"
   ]
  },
  {
   "cell_type": "code",
   "execution_count": 82,
   "id": "1fa42958",
   "metadata": {},
   "outputs": [
    {
     "name": "stdout",
     "output_type": "stream",
     "text": [
      "hello i see you and u are beautifull\n"
     ]
    },
    {
     "ename": "ValueError",
     "evalue": "chr() arg not in range(0x110000)",
     "output_type": "error",
     "traceback": [
      "\u001b[1;31m---------------------------------------------------------------------------\u001b[0m",
      "\u001b[1;31mValueError\u001b[0m                                Traceback (most recent call last)",
      "Cell \u001b[1;32mIn[82], line 7\u001b[0m\n\u001b[0;32m      4\u001b[0m guess \u001b[38;5;241m=\u001b[39m \u001b[38;5;124m'\u001b[39m\u001b[38;5;124m'\u001b[39m\n\u001b[0;32m      6\u001b[0m \u001b[38;5;28;01mfor\u001b[39;00m i \u001b[38;5;129;01min\u001b[39;00m enc:\n\u001b[1;32m----> 7\u001b[0m     guess \u001b[38;5;241m+\u001b[39m\u001b[38;5;241m=\u001b[39m \u001b[38;5;28;43mchr\u001b[39;49m\u001b[43m(\u001b[49m\u001b[38;5;28;43mord\u001b[39;49m\u001b[43m(\u001b[49m\u001b[43mi\u001b[49m\u001b[43m)\u001b[49m\u001b[43m \u001b[49m\u001b[38;5;241;43m-\u001b[39;49m\u001b[43m \u001b[49m\u001b[43mnum\u001b[49m\u001b[43m)\u001b[49m\n\u001b[0;32m      9\u001b[0m \u001b[38;5;28;01mfor\u001b[39;00m word \u001b[38;5;129;01min\u001b[39;00m words:\n\u001b[0;32m     10\u001b[0m     \u001b[38;5;28;01mif\u001b[39;00m(word \u001b[38;5;129;01min\u001b[39;00m guess):\n",
      "\u001b[1;31mValueError\u001b[0m: chr() arg not in range(0x110000)"
     ]
    }
   ],
   "source": [
    "words = ['is','the','what','are','it','me','you']\n",
    "\n",
    "for num in range(-65,65,1):\n",
    "    guess = ''\n",
    "\n",
    "    for i in enc:\n",
    "        guess += chr(ord(i) - num)\n",
    "    \n",
    "    for word in words:\n",
    "        if(word in guess):\n",
    "            print(guess)\n",
    "            break\n",
    "            "
   ]
  },
  {
   "cell_type": "code",
   "execution_count": null,
   "id": "245613e9",
   "metadata": {},
   "outputs": [],
   "source": []
  }
 ],
 "metadata": {
  "kernelspec": {
   "display_name": "Python 3 (ipykernel)",
   "language": "python",
   "name": "python3"
  },
  "language_info": {
   "codemirror_mode": {
    "name": "ipython",
    "version": 3
   },
   "file_extension": ".py",
   "mimetype": "text/x-python",
   "name": "python",
   "nbconvert_exporter": "python",
   "pygments_lexer": "ipython3",
   "version": "3.10.9"
  }
 },
 "nbformat": 4,
 "nbformat_minor": 5
}
