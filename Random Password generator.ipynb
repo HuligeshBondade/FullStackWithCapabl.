{
 "cells": [
  {
   "cell_type": "markdown",
   "id": "ba906d2f",
   "metadata": {},
   "source": [
    "## 1.Numeric Password"
   ]
  },
  {
   "cell_type": "code",
   "execution_count": 1,
   "id": "11a8524e",
   "metadata": {},
   "outputs": [],
   "source": [
    "import random"
   ]
  },
  {
   "cell_type": "code",
   "execution_count": 10,
   "id": "76372bc5",
   "metadata": {},
   "outputs": [
    {
     "data": {
      "text/plain": [
       "94912573"
      ]
     },
     "execution_count": 10,
     "metadata": {},
     "output_type": "execute_result"
    }
   ],
   "source": [
    "random.randint(100000,99999999)"
   ]
  },
  {
   "cell_type": "code",
   "execution_count": 21,
   "id": "4747548a",
   "metadata": {},
   "outputs": [
    {
     "name": "stdout",
     "output_type": "stream",
     "text": [
      "what should be length of password?5\n",
      "password :  14245\n"
     ]
    }
   ],
   "source": [
    "length = int(input(\"what should be length of password?\"))\n",
    "start = pow(10,length-1)\n",
    "end = int('9'*length)\n",
    "print(\"password : \",random.randint(start,end))"
   ]
  },
  {
   "cell_type": "code",
   "execution_count": 13,
   "id": "8a605e44",
   "metadata": {},
   "outputs": [
    {
     "data": {
      "text/plain": [
       "10"
      ]
     },
     "execution_count": 13,
     "metadata": {},
     "output_type": "execute_result"
    }
   ],
   "source": [
    "length"
   ]
  },
  {
   "cell_type": "markdown",
   "id": "3c63d304",
   "metadata": {},
   "source": [
    "## 2.Alphanumeric  (A-Z)"
   ]
  },
  {
   "cell_type": "code",
   "execution_count": 38,
   "id": "bf4bc1ab",
   "metadata": {},
   "outputs": [
    {
     "data": {
      "text/plain": [
       "90"
      ]
     },
     "execution_count": 38,
     "metadata": {},
     "output_type": "execute_result"
    }
   ],
   "source": [
    "ord('Z')"
   ]
  },
  {
   "cell_type": "code",
   "execution_count": 36,
   "id": "33a347d1",
   "metadata": {},
   "outputs": [
    {
     "data": {
      "text/plain": [
       "'Z'"
      ]
     },
     "execution_count": 36,
     "metadata": {},
     "output_type": "execute_result"
    }
   ],
   "source": [
    "chr(90)"
   ]
  },
  {
   "cell_type": "code",
   "execution_count": 41,
   "id": "edbdb908",
   "metadata": {},
   "outputs": [
    {
     "data": {
      "text/plain": [
       "'O'"
      ]
     },
     "execution_count": 41,
     "metadata": {},
     "output_type": "execute_result"
    }
   ],
   "source": [
    "chr(random.randint(65,90))"
   ]
  },
  {
   "cell_type": "code",
   "execution_count": null,
   "id": "44607faa",
   "metadata": {},
   "outputs": [],
   "source": [
    "length = int(input(\"what should be length of password?\"))\n",
    "password=''\n",
    "\n",
    "for i in range(length):\n",
    "    password += chr(random.randint(65,90))  \n",
    "    \n",
    "print('password :',password)"
   ]
  },
  {
   "cell_type": "markdown",
   "id": "698a9b87",
   "metadata": {},
   "source": [
    "## 3.Alphabet (a-z)"
   ]
  },
  {
   "cell_type": "code",
   "execution_count": 44,
   "id": "87b97fe2",
   "metadata": {},
   "outputs": [
    {
     "name": "stdout",
     "output_type": "stream",
     "text": [
      "what should be length of password?4\n",
      "password : fgvw\n"
     ]
    }
   ],
   "source": [
    "length = int(input(\"what should be length of password?\"))\n",
    "password=''\n",
    "\n",
    "for i in range(length):\n",
    "    password += chr(random.randint(97,122))  \n",
    "    \n",
    "print('password :',password)"
   ]
  },
  {
   "cell_type": "markdown",
   "id": "34750f3e",
   "metadata": {},
   "source": [
    "## 4.Alphanumeric"
   ]
  },
  {
   "cell_type": "code",
   "execution_count": 45,
   "id": "f0206156",
   "metadata": {},
   "outputs": [
    {
     "name": "stdout",
     "output_type": "stream",
     "text": [
      "what should be length of password?8\n",
      "password : IAj}_W_=\n"
     ]
    }
   ],
   "source": [
    "length = int(input(\"what should be length of password?\"))\n",
    "password=''\n",
    "\n",
    "for i in range(length):\n",
    "    password += chr(random.randint(33,126))  \n",
    "    \n",
    "print('password :',password)"
   ]
  },
  {
   "cell_type": "markdown",
   "id": "06eed6be",
   "metadata": {},
   "source": [
    "## 5.Alphanumeric (removing some character)"
   ]
  },
  {
   "cell_type": "code",
   "execution_count": 47,
   "id": "9dca0782",
   "metadata": {},
   "outputs": [
    {
     "name": "stdout",
     "output_type": "stream",
     "text": [
      "what should be length of password?6\n",
      "password : bvpTx%\n"
     ]
    }
   ],
   "source": [
    "length = int(input(\"what should be length of password?\"))\n",
    "password=''\n",
    "\n",
    "while len(password) != length:\n",
    "    \n",
    "    ch = chr(random.randint(33,126))\n",
    "    \n",
    "    if(ord(ch) >= 35 and ord(ch) <= 38):\n",
    "        password += ch\n",
    "    \n",
    "    elif(ord(ch) >= 48 and ord(ch) <= 57):\n",
    "        password += ch\n",
    "        \n",
    "    elif(ord(ch) >= 65 and ord(ch) <= 90):\n",
    "        password += ch\n",
    "    \n",
    "    elif(ord(ch) >= 97 and ord(ch) <= 122):\n",
    "        password += ch\n",
    "    \n",
    "print('password :',password)"
   ]
  },
  {
   "cell_type": "code",
   "execution_count": null,
   "id": "2d3a597a",
   "metadata": {},
   "outputs": [],
   "source": []
  }
 ],
 "metadata": {
  "kernelspec": {
   "display_name": "Python 3 (ipykernel)",
   "language": "python",
   "name": "python3"
  },
  "language_info": {
   "codemirror_mode": {
    "name": "ipython",
    "version": 3
   },
   "file_extension": ".py",
   "mimetype": "text/x-python",
   "name": "python",
   "nbconvert_exporter": "python",
   "pygments_lexer": "ipython3",
   "version": "3.10.9"
  }
 },
 "nbformat": 4,
 "nbformat_minor": 5
}
