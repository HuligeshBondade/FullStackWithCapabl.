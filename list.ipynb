{
 "cells": [
  {
   "cell_type": "code",
   "execution_count": 1,
   "id": "2452db34",
   "metadata": {},
   "outputs": [],
   "source": [
    "name=\"prakash\"\n",
    "hin=60\n",
    "eng=70\n",
    "mth=65\n",
    "sci=65"
   ]
  },
  {
   "cell_type": "code",
   "execution_count": 5,
   "id": "d7dbfd45",
   "metadata": {},
   "outputs": [
    {
     "name": "stdout",
     "output_type": "stream",
     "text": [
      "260\n"
     ]
    }
   ],
   "source": [
    "total=hin+eng+mth+sci\n",
    "print(total)"
   ]
  },
  {
   "cell_type": "code",
   "execution_count": 6,
   "id": "32bd3636",
   "metadata": {},
   "outputs": [],
   "source": [
    "rakesh=[60,70,65,65]"
   ]
  },
  {
   "cell_type": "code",
   "execution_count": 7,
   "id": "7e18e1fa",
   "metadata": {},
   "outputs": [
    {
     "data": {
      "text/plain": [
       "70"
      ]
     },
     "execution_count": 7,
     "metadata": {},
     "output_type": "execute_result"
    }
   ],
   "source": [
    "rakesh[1]"
   ]
  },
  {
   "cell_type": "code",
   "execution_count": 8,
   "id": "d8942776",
   "metadata": {},
   "outputs": [
    {
     "data": {
      "text/plain": [
       "260"
      ]
     },
     "execution_count": 8,
     "metadata": {},
     "output_type": "execute_result"
    }
   ],
   "source": [
    "sum(rakesh)"
   ]
  },
  {
   "cell_type": "code",
   "execution_count": 10,
   "id": "68c37644",
   "metadata": {},
   "outputs": [
    {
     "name": "stdout",
     "output_type": "stream",
     "text": [
      "60\n",
      "70\n",
      "65\n",
      "65\n"
     ]
    }
   ],
   "source": [
    "for i in rakesh:\n",
    "    print(i)"
   ]
  },
  {
   "cell_type": "code",
   "execution_count": 15,
   "id": "497181ed",
   "metadata": {},
   "outputs": [
    {
     "data": {
      "text/plain": [
       "65.0"
      ]
     },
     "execution_count": 15,
     "metadata": {},
     "output_type": "execute_result"
    }
   ],
   "source": [
    "(sum(rakesh)/(len(rakesh)))"
   ]
  },
  {
   "cell_type": "code",
   "execution_count": 27,
   "id": "ab06e9f7",
   "metadata": {},
   "outputs": [],
   "source": [
    "data=[1,\"anil\",60,75,65,65],[2,\"akash\",60,77,65,65],[3,\"priya\",60,76,65,65],[4,\"rahul\",60,75,65,65]"
   ]
  },
  {
   "cell_type": "code",
   "execution_count": 17,
   "id": "fef885c7",
   "metadata": {},
   "outputs": [
    {
     "data": {
      "text/plain": [
       "(['anil', 60, 75, 65, 65],\n",
       " ['akask', 60, 77, 65, 65],\n",
       " ['priya', 60, 76, 65, 65],\n",
       " ['rahul', 60, 75, 65, 65])"
      ]
     },
     "execution_count": 17,
     "metadata": {},
     "output_type": "execute_result"
    }
   ],
   "source": [
    "data"
   ]
  },
  {
   "cell_type": "code",
   "execution_count": 26,
   "id": "186faeb4",
   "metadata": {},
   "outputs": [
    {
     "name": "stdout",
     "output_type": "stream",
     "text": [
      "anil - 60\n",
      "akash - 60\n",
      "priya - 60\n",
      "rahul - 60\n"
     ]
    }
   ],
   "source": [
    "for student in data:\n",
    "    print (student[0],\"-\",student[1])"
   ]
  },
  {
   "cell_type": "code",
   "execution_count": 25,
   "id": "7860db8e",
   "metadata": {},
   "outputs": [
    {
     "ename": "TypeError",
     "evalue": "'int' object is not iterable",
     "output_type": "error",
     "traceback": [
      "\u001b[1;31m---------------------------------------------------------------------------\u001b[0m",
      "\u001b[1;31mTypeError\u001b[0m                                 Traceback (most recent call last)",
      "Cell \u001b[1;32mIn[25], line 1\u001b[0m\n\u001b[1;32m----> 1\u001b[0m \u001b[38;5;28;43mmax\u001b[39;49m\u001b[43m(\u001b[49m\u001b[43mstudent\u001b[49m\u001b[43m[\u001b[49m\u001b[38;5;241;43m2\u001b[39;49m\u001b[43m]\u001b[49m\u001b[43m)\u001b[49m\n",
      "\u001b[1;31mTypeError\u001b[0m: 'int' object is not iterable"
     ]
    }
   ],
   "source": [
    "max(student[2])"
   ]
  },
  {
   "cell_type": "markdown",
   "id": "9a276e14",
   "metadata": {},
   "source": [
    "## student detail based on roll no"
   ]
  },
  {
   "cell_type": "code",
   "execution_count": 28,
   "id": "62834f27",
   "metadata": {},
   "outputs": [
    {
     "data": {
      "text/plain": [
       "([1, 'anil', 60, 75, 65, 65],\n",
       " [2, 'akash', 60, 77, 65, 65],\n",
       " [3, 'priya', 60, 76, 65, 65],\n",
       " [4, 'rahul', 60, 75, 65, 65])"
      ]
     },
     "execution_count": 28,
     "metadata": {},
     "output_type": "execute_result"
    }
   ],
   "source": [
    "data"
   ]
  },
  {
   "cell_type": "code",
   "execution_count": 36,
   "id": "e22ad72f",
   "metadata": {},
   "outputs": [
    {
     "name": "stdout",
     "output_type": "stream",
     "text": [
      "enter roll no.4\n",
      "-------------------------\n",
      "Name: rahul\n",
      "hindi: 60\n",
      "eng: 75\n",
      "math: 65\n",
      "sci: 65\n",
      "-------------------------\n",
      "total: 265\n",
      "-------------------------\n"
     ]
    }
   ],
   "source": []
  },
  {
   "cell_type": "code",
   "execution_count": 38,
   "id": "4118d979",
   "metadata": {},
   "outputs": [
    {
     "name": "stdout",
     "output_type": "stream",
     "text": [
      "enter roll no.3\n",
      "-------------------------\n",
      "Name   : priya\n",
      "hindi  : 60\n",
      "eng    : 76\n",
      "math   : 65\n",
      "sci    : 65\n",
      "-------------------------\n",
      "total  : 266\n",
      "-------------------------\n"
     ]
    }
   ],
   "source": [
    "roll_no=int(input(\"Enter roll no.\"))\n",
    "\n",
    "for student in data:\n",
    "    if(student[0]==roll_no):\n",
    "        print(\"-\"*25)\n",
    "        print(\"Name   :\" ,student[1])\n",
    "        print(\"hindi  :\",student[2])\n",
    "        print(\"eng    :\",student[3])\n",
    "        print(\"math   :\",student[4])\n",
    "        print(\"sci    :\",student[5])\n",
    "        print(\"-\"*25)\n",
    "        print(\"total  :\",sum(student[2:]))\n",
    "        \n",
    "        print(\"-\"*25)\n",
    "                              "
   ]
  },
  {
   "cell_type": "code",
   "execution_count": 39,
   "id": "1c146e12",
   "metadata": {},
   "outputs": [],
   "source": [
    "a=[[1,2,3],[4,5,6],[7,8,9]]"
   ]
  },
  {
   "cell_type": "code",
   "execution_count": 47,
   "id": "0635dd2e",
   "metadata": {},
   "outputs": [
    {
     "data": {
      "text/plain": [
       "5"
      ]
     },
     "execution_count": 47,
     "metadata": {},
     "output_type": "execute_result"
    }
   ],
   "source": [
    "a[1][1]"
   ]
  },
  {
   "cell_type": "code",
   "execution_count": null,
   "id": "d8879016",
   "metadata": {},
   "outputs": [],
   "source": []
  }
 ],
 "metadata": {
  "kernelspec": {
   "display_name": "Python 3 (ipykernel)",
   "language": "python",
   "name": "python3"
  },
  "language_info": {
   "codemirror_mode": {
    "name": "ipython",
    "version": 3
   },
   "file_extension": ".py",
   "mimetype": "text/x-python",
   "name": "python",
   "nbconvert_exporter": "python",
   "pygments_lexer": "ipython3",
   "version": "3.10.9"
  }
 },
 "nbformat": 4,
 "nbformat_minor": 5
}
