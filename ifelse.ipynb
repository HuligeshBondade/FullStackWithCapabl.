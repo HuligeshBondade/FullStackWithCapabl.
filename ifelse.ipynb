{
 "cells": [
  {
   "cell_type": "code",
   "execution_count": null,
   "id": "eb98ac86",
   "metadata": {},
   "outputs": [],
   "source": [
    "age=int(input(\"enter a number: \"))\n",
    "if((age>=18) and (age<=25)):\n",
    "    print(\"age is in range\")\n",
    "else:\n",
    "    print(\"not age\")"
   ]
  },
  {
   "cell_type": "markdown",
   "id": "c4b59738",
   "metadata": {},
   "source": [
    "## Grading system"
   ]
  },
  {
   "cell_type": "code",
   "execution_count": null,
   "id": "9081b26d",
   "metadata": {},
   "outputs": [],
   "source": [
    "marks=int(input(\"enter your marks: \"))\n",
    "if(marks>=95):\n",
    "    print(\"A+\")\n",
    "elif((marks>=90) and (marks<=95)):\n",
    "    print(\"A\")\n",
    "elif((marks>=80) and (marks<=89)):\n",
    "    print(\"B+\")\n",
    "elif((marks>=70) and (marks<=79)):\n",
    "    print(\"B\")\n",
    "elif((marks>=60) and (marks<=69)):\n",
    "    print(\"C\")\n",
    "elif((marks>=50) and (marks<=59)):\n",
    "    print(\"D\")\n",
    "elif((marks>=36) and (marks<=49)):\n",
    "    print(\"E\")\n"
   ]
  },
  {
   "cell_type": "code",
   "execution_count": null,
   "id": "5ea9fa0c",
   "metadata": {},
   "outputs": [],
   "source": []
  }
 ],
 "metadata": {
  "kernelspec": {
   "display_name": "Python 3 (ipykernel)",
   "language": "python",
   "name": "python3"
  },
  "language_info": {
   "codemirror_mode": {
    "name": "ipython",
    "version": 3
   },
   "file_extension": ".py",
   "mimetype": "text/x-python",
   "name": "python",
   "nbconvert_exporter": "python",
   "pygments_lexer": "ipython3",
   "version": "3.10.9"
  }
 },
 "nbformat": 4,
 "nbformat_minor": 5
}
