{
 "cells": [
  {
   "cell_type": "code",
   "execution_count": null,
   "id": "0c3b00de",
   "metadata": {},
   "outputs": [],
   "source": [
    "age=20;\n",
    "if(age>18):\n",
    "    print('you can vote!')"
   ]
  },
  {
   "cell_type": "code",
   "execution_count": 22,
   "id": "fd63c666",
   "metadata": {},
   "outputs": [
    {
     "name": "stdout",
     "output_type": "stream",
     "text": [
      "enter number:54\n",
      "n is even\n"
     ]
    }
   ],
   "source": [
    "n=int(input(\"enter number:\"))\n",
    "if(n%2==0):\n",
    "    print(\"n is even\")\n",
    "else:\n",
    "    print(\"n is odd\")"
   ]
  },
  {
   "cell_type": "code",
   "execution_count": 23,
   "id": "ede86a9d",
   "metadata": {},
   "outputs": [
    {
     "data": {
      "text/plain": [
       "1"
      ]
     },
     "execution_count": 23,
     "metadata": {},
     "output_type": "execute_result"
    }
   ],
   "source": [
    "37%2"
   ]
  },
  {
   "cell_type": "code",
   "execution_count": null,
   "id": "c9081832",
   "metadata": {},
   "outputs": [],
   "source": []
  }
 ],
 "metadata": {
  "kernelspec": {
   "display_name": "Python 3 (ipykernel)",
   "language": "python",
   "name": "python3"
  },
  "language_info": {
   "codemirror_mode": {
    "name": "ipython",
    "version": 3
   },
   "file_extension": ".py",
   "mimetype": "text/x-python",
   "name": "python",
   "nbconvert_exporter": "python",
   "pygments_lexer": "ipython3",
   "version": "3.10.9"
  }
 },
 "nbformat": 4,
 "nbformat_minor": 5
}
