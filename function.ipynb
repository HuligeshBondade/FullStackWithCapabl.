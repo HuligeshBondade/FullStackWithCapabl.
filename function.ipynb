{
 "cells": [
  {
   "cell_type": "code",
   "execution_count": 1,
   "id": "5d3b9ac3",
   "metadata": {},
   "outputs": [
    {
     "data": {
      "text/plain": [
       "7"
      ]
     },
     "execution_count": 1,
     "metadata": {},
     "output_type": "execute_result"
    }
   ],
   "source": [
    "2^5"
   ]
  },
  {
   "cell_type": "code",
   "execution_count": 2,
   "id": "e64649f5",
   "metadata": {},
   "outputs": [
    {
     "data": {
      "text/plain": [
       "32"
      ]
     },
     "execution_count": 2,
     "metadata": {},
     "output_type": "execute_result"
    }
   ],
   "source": [
    "2**5"
   ]
  },
  {
   "cell_type": "code",
   "execution_count": 3,
   "id": "7baaf22c",
   "metadata": {},
   "outputs": [
    {
     "data": {
      "text/plain": [
       "32"
      ]
     },
     "execution_count": 3,
     "metadata": {},
     "output_type": "execute_result"
    }
   ],
   "source": [
    "pow(2,5)"
   ]
  },
  {
   "cell_type": "code",
   "execution_count": 4,
   "id": "2199551e",
   "metadata": {},
   "outputs": [],
   "source": [
    "def power():\n",
    "    print(\"hello world\")"
   ]
  },
  {
   "cell_type": "code",
   "execution_count": 5,
   "id": "a2fcb001",
   "metadata": {},
   "outputs": [
    {
     "name": "stdout",
     "output_type": "stream",
     "text": [
      "hello world\n"
     ]
    }
   ],
   "source": [
    "power()"
   ]
  },
  {
   "cell_type": "code",
   "execution_count": 7,
   "id": "540f8795",
   "metadata": {},
   "outputs": [
    {
     "name": "stdout",
     "output_type": "stream",
     "text": [
      "hello world\n",
      "None\n",
      "hello world\n",
      "None\n",
      "hello world\n",
      "None\n",
      "hello world\n",
      "None\n",
      "hello world\n",
      "None\n"
     ]
    }
   ],
   "source": [
    "for i in range(5):\n",
    "    x=power()\n",
    "    print(x)"
   ]
  },
  {
   "cell_type": "code",
   "execution_count": 20,
   "id": "d793328a",
   "metadata": {},
   "outputs": [],
   "source": [
    "def pwr(name):\n",
    "    print(\"hello,\",name)"
   ]
  },
  {
   "cell_type": "code",
   "execution_count": 27,
   "id": "84d2de5e",
   "metadata": {},
   "outputs": [
    {
     "name": "stdout",
     "output_type": "stream",
     "text": [
      "hello, rohit\n"
     ]
    }
   ],
   "source": [
    "p=\"rohit\"\n",
    "pwr(p)"
   ]
  },
  {
   "cell_type": "code",
   "execution_count": 28,
   "id": "3e43accd",
   "metadata": {},
   "outputs": [
    {
     "name": "stdout",
     "output_type": "stream",
     "text": [
      "2 2\n",
      "4 2\n",
      "8 2\n",
      "16 2\n",
      "32 2\n",
      "32\n"
     ]
    }
   ],
   "source": [
    "n=1\n",
    "p=5\n",
    "num=2\n",
    "for i in range(p):\n",
    "    n=n*num\n",
    "    print(n,num)\n",
    "print(n)\n"
   ]
  },
  {
   "cell_type": "code",
   "execution_count": 46,
   "id": "c7b832b2",
   "metadata": {},
   "outputs": [],
   "source": [
    "def pr(p,num):\n",
    "    no=1\n",
    "    for i in range(c):\n",
    "        no=no*numb\n",
    "        print(no,numb)\n",
    "    print(no)\n",
    "    "
   ]
  },
  {
   "cell_type": "code",
   "execution_count": 47,
   "id": "297a2e59",
   "metadata": {},
   "outputs": [
    {
     "name": "stdout",
     "output_type": "stream",
     "text": [
      "4 4\n",
      "16 4\n",
      "64 4\n",
      "256 4\n",
      "1024 4\n",
      "4096 4\n",
      "4096\n"
     ]
    }
   ],
   "source": [
    "pr(6,4)"
   ]
  },
  {
   "cell_type": "code",
   "execution_count": null,
   "id": "dd7110d0",
   "metadata": {},
   "outputs": [],
   "source": []
  }
 ],
 "metadata": {
  "kernelspec": {
   "display_name": "Python 3 (ipykernel)",
   "language": "python",
   "name": "python3"
  },
  "language_info": {
   "codemirror_mode": {
    "name": "ipython",
    "version": 3
   },
   "file_extension": ".py",
   "mimetype": "text/x-python",
   "name": "python",
   "nbconvert_exporter": "python",
   "pygments_lexer": "ipython3",
   "version": "3.10.9"
  }
 },
 "nbformat": 4,
 "nbformat_minor": 5
}
