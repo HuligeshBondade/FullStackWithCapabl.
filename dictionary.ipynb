{
 "cells": [
  {
   "cell_type": "code",
   "execution_count": 2,
   "id": "1c46b94c",
   "metadata": {},
   "outputs": [
    {
     "name": "stdout",
     "output_type": "stream",
     "text": [
      "40\n"
     ]
    }
   ],
   "source": [
    "d={\"jh\":40,\"ptr\":45}\n",
    "print(d[\"jh\"])"
   ]
  },
  {
   "cell_type": "code",
   "execution_count": 24,
   "id": "f727580a",
   "metadata": {},
   "outputs": [],
   "source": [
    "dct = { 1 : {'name': 'Prakash','eng': 60, 'hin': 70,'sci' : 85, 'mth': 95},\n",
    "        2 : {'name': 'Ashish','eng' : 65, 'hin': 77,'sci': 75, 'mth': 93},\n",
    "        3 : {'name': 'Anshika', 'eng': 68, 'hin': 72,'sci' : 85, 'mth': 89}, \n",
    "        4 : {'name': 'Ayushi' ,'eng': 62, 'hin': 74, 'sci': 90, 'mth': 94}}"
   ]
  },
  {
   "cell_type": "code",
   "execution_count": 25,
   "id": "22484096",
   "metadata": {},
   "outputs": [
    {
     "data": {
      "text/plain": [
       "{1: {'name': 'Prakash', 'eng': 60, 'hin': 70, 'sci': 85, 'mth': 95},\n",
       " 2: {'name': 'Ashish', 'eng': 65, 'hin': 77, 'sci': 75, 'mth': 93},\n",
       " 3: {'name': 'Anshika', 'eng': 68, 'hin': 72, 'sci': 85, 'mth': 89},\n",
       " 4: {'name': 'Ayushi', 'eng': 62, 'hin': 74, 'sci': 90, 'mth': 94}}"
      ]
     },
     "execution_count": 25,
     "metadata": {},
     "output_type": "execute_result"
    }
   ],
   "source": [
    "dct"
   ]
  },
  {
   "cell_type": "code",
   "execution_count": 10,
   "id": "6d1bbd36",
   "metadata": {},
   "outputs": [
    {
     "name": "stdout",
     "output_type": "stream",
     "text": [
      "enter the roll_no3\n",
      "--------------------\n",
      "Name     : Anshika\n",
      "English  : 68\n",
      "Hindi    : 72\n",
      "Science  : 85\n",
      "Maths    : 89\n",
      "--------------------\n",
      "Total 314\n",
      "--------------------\n"
     ]
    }
   ],
   "source": [
    "roll_no = int(input(\"enter the roll_no\"))\n",
    "print(\"-\"*20)\n",
    "print(\"Name     :\",dct[roll_no][\"name\"])\n",
    "print(\"English  :\",dct[roll_no][\"eng\"])\n",
    "print(\"Hindi    :\",dct[roll_no][\"hin\"])\n",
    "print(\"Science  :\",dct[roll_no][\"sci\"])\n",
    "print(\"Maths    :\",dct[roll_no][\"mth\"])\n",
    "\n",
    "total=dct[roll_no][\"hin\"]+dct[roll_no][\"eng\"]+dct[roll_no][\"mth\"]+dct[roll_no][\"sci\"]\n",
    "\n",
    "print(\"-\"*20)\n",
    "print(\"Total\",total)\n",
    "print(\"-\"*20)"
   ]
  },
  {
   "cell_type": "code",
   "execution_count": 14,
   "id": "e34098f3",
   "metadata": {},
   "outputs": [
    {
     "data": {
      "text/plain": [
       "dict_keys([1, 2, 3, 4])"
      ]
     },
     "execution_count": 14,
     "metadata": {},
     "output_type": "execute_result"
    }
   ],
   "source": [
    "dct.keys()"
   ]
  },
  {
   "cell_type": "code",
   "execution_count": 19,
   "id": "50346a65",
   "metadata": {},
   "outputs": [
    {
     "name": "stdout",
     "output_type": "stream",
     "text": [
      "60\n",
      "65\n",
      "68\n",
      "62\n"
     ]
    }
   ],
   "source": [
    "for key in dct.keys():\n",
    "    print(dct[key][\"eng\"])"
   ]
  },
  {
   "cell_type": "code",
   "execution_count": 25,
   "id": "78b05672",
   "metadata": {},
   "outputs": [
    {
     "name": "stdout",
     "output_type": "stream",
     "text": [
      "maximum  : 68\n",
      "Average  : 63.75\n"
     ]
    }
   ],
   "source": [
    "eng=[]\n",
    "for key in dct.keys():\n",
    "    eng.append(dct[key][\"eng\"])\n",
    "print(\"maximum  :\",max(eng))\n",
    "print(\"Average  :\",sum(eng)/len(eng))"
   ]
  },
  {
   "cell_type": "code",
   "execution_count": 32,
   "id": "56f1ccf7",
   "metadata": {},
   "outputs": [],
   "source": [
    "eng=[]\n",
    "for key in dct.keys():\n",
    "    eng.append(dct[key][\"eng\"])\n",
    "\n",
    "marks=max(eng)\n",
    "\n",
    "for key in dct.keys():\n",
    "    if(dct[key][\"eng\"] == \"marks\"):\n",
    "        print(dct[key][\"name\"])"
   ]
  },
  {
   "cell_type": "code",
   "execution_count": 8,
   "id": "0dd51eaf",
   "metadata": {},
   "outputs": [],
   "source": [
    "val=[1,\"anil\",60,75,65,65],[2,\"akash\",60,77,65,65],[3,\"priya\",60,76,65,65],[4,\"rahul\",60,75,65,65]"
   ]
  },
  {
   "cell_type": "code",
   "execution_count": 9,
   "id": "bd2e1304",
   "metadata": {},
   "outputs": [
    {
     "data": {
      "text/plain": [
       "([1, 'anil', 60, 75, 65, 65],\n",
       " [2, 'akash', 60, 77, 65, 65],\n",
       " [3, 'priya', 60, 76, 65, 65],\n",
       " [4, 'rahul', 60, 75, 65, 65])"
      ]
     },
     "execution_count": 9,
     "metadata": {},
     "output_type": "execute_result"
    }
   ],
   "source": [
    "val"
   ]
  },
  {
   "cell_type": "code",
   "execution_count": 19,
   "id": "7b7857e0",
   "metadata": {},
   "outputs": [
    {
     "name": "stdout",
     "output_type": "stream",
     "text": [
      "{'name': 'anil', 'eng': 60, 'hin': 75, 'sci': 65, 'mth': 65}\n",
      "{'name': 'akash', 'eng': 60, 'hin': 77, 'sci': 65, 'mth': 65}\n",
      "{'name': 'priya', 'eng': 60, 'hin': 76, 'sci': 65, 'mth': 65}\n",
      "{'name': 'rahul', 'eng': 60, 'hin': 75, 'sci': 65, 'mth': 65}\n"
     ]
    }
   ],
   "source": [
    "for i in val:\n",
    "    student = {}\n",
    "    \n",
    "    roll_no  = i[0]\n",
    "    name     = i[1]\n",
    "    eng      = i[2]\n",
    "    hin      = i[3]\n",
    "    mth      = i[4]\n",
    "    sci      = i[5]\n",
    "    \n",
    "    student[\"name\"] = name\n",
    "    student[\"eng\"]  = eng\n",
    "    student[\"hin\"]  = hin\n",
    "    student[\"sci\"]  = sci\n",
    "    student[\"mth\"]  = mth\n",
    "    \n",
    "    print(student)\n",
    "    "
   ]
  },
  {
   "cell_type": "code",
   "execution_count": 26,
   "id": "4643ca00",
   "metadata": {},
   "outputs": [
    {
     "ename": "AttributeError",
     "evalue": "'dict' object has no attribute 'key'",
     "output_type": "error",
     "traceback": [
      "\u001b[1;31m---------------------------------------------------------------------------\u001b[0m",
      "\u001b[1;31mAttributeError\u001b[0m                            Traceback (most recent call last)",
      "Cell \u001b[1;32mIn[26], line 1\u001b[0m\n\u001b[1;32m----> 1\u001b[0m \u001b[38;5;28;01mfor\u001b[39;00m key \u001b[38;5;129;01min\u001b[39;00m \u001b[43mdct\u001b[49m\u001b[38;5;241;43m.\u001b[39;49m\u001b[43mkey\u001b[49m():\n\u001b[0;32m      2\u001b[0m     \u001b[38;5;28mprint\u001b[39m(roll_no,dct[roll_no])\n",
      "\u001b[1;31mAttributeError\u001b[0m: 'dict' object has no attribute 'key'"
     ]
    }
   ],
   "source": [
    "for key in dct.key():\n",
    "    print(roll_no,dct[roll_no])"
   ]
  },
  {
   "cell_type": "code",
   "execution_count": 22,
   "id": "120e9d78",
   "metadata": {},
   "outputs": [
    {
     "data": {
      "text/plain": [
       "{}"
      ]
     },
     "execution_count": 22,
     "metadata": {},
     "output_type": "execute_result"
    }
   ],
   "source": [
    "dct"
   ]
  },
  {
   "cell_type": "code",
   "execution_count": 95,
   "id": "6c5e1e68",
   "metadata": {},
   "outputs": [],
   "source": [
    "grades = {}\n",
    "\n",
    "\n",
    "def add_Student(student_name, grade):\n",
    "    grades[student_name] = grade\n",
    "\n",
    "\n",
    "def remove_Student(student_name):\n",
    "    if student_name in grades:\n",
    "        del grades[student_name]\n",
    "    else:\n",
    "        print(f\"Student '{student_name}' doesn't exist.\")\n",
    "\n",
    "\n",
    "def update_Student(student_name, new_grade):\n",
    "    if student_name in grades:\n",
    "        grades[student_name] = new_grade\n",
    "    else:\n",
    "        print(f\"Student '{student_name}' doesn't exist.\")\n",
    "\n",
    "\n",
    "def get_Student(student_name):\n",
    "    if student_name in grades:\n",
    "        return grades[student_name]\n",
    "    else:\n",
    "        print(\"student not there in the list\")\n",
    "        return None\n",
    "\n",
    "\n",
    "def get_all_grades():\n",
    "    return grades\n",
    "\n",
    "\n",
    "def calculate_average_grade():\n",
    "    if grades:\n",
    "        total = sum(grades.values())\n",
    "        return total / len(grades)\n",
    "    else:\n",
    "        return None"
   ]
  },
  {
   "cell_type": "code",
   "execution_count": 96,
   "id": "20a33c8d",
   "metadata": {},
   "outputs": [],
   "source": [
    "add_Student(\"Rohit\", 85)\n",
    "add_Student(\"Sara\", 92)\n",
    "add_Student(\"Aman\", 78)\n"
   ]
  },
  {
   "cell_type": "code",
   "execution_count": 89,
   "id": "4af5d215",
   "metadata": {},
   "outputs": [
    {
     "ename": "TypeError",
     "evalue": "add_grade() takes 2 positional arguments but 3 were given",
     "output_type": "error",
     "traceback": [
      "\u001b[1;31m---------------------------------------------------------------------------\u001b[0m",
      "\u001b[1;31mTypeError\u001b[0m                                 Traceback (most recent call last)",
      "Cell \u001b[1;32mIn[89], line 1\u001b[0m\n\u001b[1;32m----> 1\u001b[0m \u001b[43madd_grade\u001b[49m\u001b[43m(\u001b[49m\u001b[38;5;241;43m4\u001b[39;49m\u001b[43m,\u001b[49m\u001b[38;5;124;43m\"\u001b[39;49m\u001b[38;5;124;43msimon\u001b[39;49m\u001b[38;5;124;43m\"\u001b[39;49m\u001b[43m,\u001b[49m\u001b[43m \u001b[49m\u001b[38;5;241;43m75\u001b[39;49m\u001b[43m)\u001b[49m\n\u001b[0;32m      2\u001b[0m add_grade(\u001b[38;5;241m5\u001b[39m,\u001b[38;5;124m\"\u001b[39m\u001b[38;5;124malex\u001b[39m\u001b[38;5;124m\"\u001b[39m, \u001b[38;5;241m87\u001b[39m)\n",
      "\u001b[1;31mTypeError\u001b[0m: add_grade() takes 2 positional arguments but 3 were given"
     ]
    }
   ],
   "source": [
    "add_grade(4,\"simon\", 75)\n",
    "add_grade(5,\"alex\", 87)"
   ]
  },
  {
   "cell_type": "code",
   "execution_count": 97,
   "id": "55c1b9d2",
   "metadata": {},
   "outputs": [
    {
     "name": "stdout",
     "output_type": "stream",
     "text": [
      "{'Rohit': 85, 'Sara': 92, 'Aman': 78}\n"
     ]
    }
   ],
   "source": [
    "print(get_all_grades())"
   ]
  },
  {
   "cell_type": "code",
   "execution_count": 69,
   "id": "eab82fad",
   "metadata": {},
   "outputs": [
    {
     "name": "stdout",
     "output_type": "stream",
     "text": [
      "Student 'roman' doesn't exist.\n",
      "{'John Doe': 85, 'Jane Smith': 92, 'Michael Johnson': 78, 'simon': 75, 'alex': 87}\n"
     ]
    }
   ],
   "source": [
    "remove_grade('roman')\n",
    "print(get_all_grades())"
   ]
  },
  {
   "cell_type": "code",
   "execution_count": 70,
   "id": "8a94b1a2",
   "metadata": {},
   "outputs": [
    {
     "name": "stdout",
     "output_type": "stream",
     "text": [
      "student not there in the list\n"
     ]
    }
   ],
   "source": [
    "get_grade('alx')"
   ]
  },
  {
   "cell_type": "code",
   "execution_count": null,
   "id": "e6f4f28f",
   "metadata": {},
   "outputs": [],
   "source": []
  },
  {
   "cell_type": "code",
   "execution_count": null,
   "id": "b7a6b549",
   "metadata": {},
   "outputs": [],
   "source": []
  }
 ],
 "metadata": {
  "kernelspec": {
   "display_name": "Python 3 (ipykernel)",
   "language": "python",
   "name": "python3"
  },
  "language_info": {
   "codemirror_mode": {
    "name": "ipython",
    "version": 3
   },
   "file_extension": ".py",
   "mimetype": "text/x-python",
   "name": "python",
   "nbconvert_exporter": "python",
   "pygments_lexer": "ipython3",
   "version": "3.10.9"
  }
 },
 "nbformat": 4,
 "nbformat_minor": 5
}
