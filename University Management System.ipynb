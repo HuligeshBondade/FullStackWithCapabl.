{
 "cells": [
  {
   "cell_type": "markdown",
   "id": "5da2617d",
   "metadata": {},
   "source": [
    "## 1.student detail"
   ]
  },
  {
   "cell_type": "code",
   "execution_count": null,
   "id": "06f3021b",
   "metadata": {},
   "outputs": [],
   "source": [
    "dct = {'4gm20is001' : {'first_name':'Ayush',\n",
    "                    'last_name':'Verma',\n",
    "                    'cell': 8826369213,\n",
    "                    'mail':'abc@gmail.com',\n",
    "                    'degree':'BE-ISE',\n",
    "                    'batch':'2016-2020'},\n",
    "                  \n",
    "       '4gm20is002' : {'first_name':'Rajath',\n",
    "                    'last_name':'Mishra',\n",
    "                    'cell': 8833021213,\n",
    "                    'mail':'abc@gmail.com',\n",
    "                    'degree':'BE-ISE',\n",
    "                    'batch':'2016-2020'}}               "
   ]
  },
  {
   "cell_type": "code",
   "execution_count": 32,
   "id": "64335405",
   "metadata": {},
   "outputs": [
    {
     "name": "stdout",
     "output_type": "stream",
     "text": [
      "Enter the registration no:4gm20is032\n",
      "------------------------------\n",
      "first_name    : Ayush\n",
      "last_name     : Verma\n",
      "cell          : 8826369213\n",
      "mail          : abc@gmail.com\n",
      "degree        : BE-ISE\n",
      "batch         : 2016-2020\n",
      "------------------------------\n"
     ]
    }
   ],
   "source": [
    "reg_no = str(input(\"Enter the registration no:\"))\n",
    "\n",
    "print('-'*30)\n",
    "print('first_name    :',dct[reg_no]['first_name'])\n",
    "print('last_name     :',dct[reg_no]['last_name'])\n",
    "print('cell          :',dct[reg_no]['cell'])\n",
    "print('mail          :',dct[reg_no]['mail'])\n",
    "print('degree        :',dct[reg_no]['degree'])\n",
    "print('batch         :',dct[reg_no]['batch'])\n",
    "print('-'*30)"
   ]
  },
  {
   "cell_type": "code",
   "execution_count": 35,
   "id": "508ad4fb",
   "metadata": {},
   "outputs": [
    {
     "name": "stdout",
     "output_type": "stream",
     "text": [
      "Reg No          :4gm20is003\n",
      "First_name      :Manish\n",
      "Last_name       :Shukla\n",
      "Phone number    :8293102385\n",
      "Mail Id         :xyz@gmail.com\n",
      "Degree          :BE-ISE\n",
      "Batch           :2016-2020\n"
     ]
    }
   ],
   "source": [
    "reg_no       = str(input(\"Reg No          :\"))\n",
    "first_name   = str(input('First_name      :'))\n",
    "last_name    = str(input('Last_name       :'))\n",
    "cell         = int(input('Phone number    :'))\n",
    "mail         = str(input('Mail Id         :'))\n",
    "degree       = str(input('Degree          :'))\n",
    "batch        = str(input('Batch           :'))\n",
    "\n",
    "temp = {}\n",
    "temp['first_name'] = first_name\n",
    "temp['last_name'] = last_name\n",
    "temp['cell'] = cell\n",
    "temp['mail'] = mail\n",
    "temp['degree'] = degree\n",
    "temp['batch'] = batch\n",
    "\n",
    "dct[reg_no]   = temp"
   ]
  },
  {
   "cell_type": "markdown",
   "id": "6729c76b",
   "metadata": {},
   "source": [
    "## Displaying user detail"
   ]
  },
  {
   "cell_type": "code",
   "execution_count": 36,
   "id": "b975909f",
   "metadata": {},
   "outputs": [
    {
     "data": {
      "text/plain": [
       "{'4gm20is032': {'first_name': 'Ayush',\n",
       "  'last_name': 'Verma',\n",
       "  'cell': 8826369213,\n",
       "  'mail': 'abc@gmail.com',\n",
       "  'degree': 'BE-ISE',\n",
       "  'batch': '2016-2020'},\n",
       " '4gm20is033': {'first_name': 'Rajath',\n",
       "  'last_name': 'Mishra',\n",
       "  'cell': 8833021213,\n",
       "  'mail': 'abc@gmail.com',\n",
       "  'degree': 'BE-ISE',\n",
       "  'batch': '2016-2020'},\n",
       " '4gm20is003': {'first_name': 'Manish',\n",
       "  'last_name': 'Shukla',\n",
       "  'cell': 8293102385,\n",
       "  'mail': 'xyz@gmail.com',\n",
       "  'degree': 'BE-ISE',\n",
       "  'batch': '2016-2020'}}"
      ]
     },
     "execution_count": 36,
     "metadata": {},
     "output_type": "execute_result"
    }
   ],
   "source": [
    "dct"
   ]
  },
  {
   "cell_type": "code",
   "execution_count": 38,
   "id": "24b15335",
   "metadata": {},
   "outputs": [
    {
     "data": {
      "text/plain": [
       "8826369213"
      ]
     },
     "execution_count": 38,
     "metadata": {},
     "output_type": "execute_result"
    }
   ],
   "source": [
    "dct['4gm20is032']['cell']"
   ]
  },
  {
   "cell_type": "code",
   "execution_count": null,
   "id": "7213bd8c",
   "metadata": {},
   "outputs": [],
   "source": []
  },
  {
   "cell_type": "markdown",
   "id": "ec40d0f1",
   "metadata": {},
   "source": [
    "## 2.section details"
   ]
  },
  {
   "cell_type": "code",
   "execution_count": 124,
   "id": "fb17c0c1",
   "metadata": {},
   "outputs": [],
   "source": [
    "section = {'ise232' :{'HOD' : 12545,'degree' : 'ISE','teacher' : [12255,12345,12434,13242]},\n",
    "           'ise233' :{'HOD' : 12544,'degree' : 'ISE','teacher' : [12343,15434,12255]},\n",
    "           'ise234' :{'HOD' : 12543,'degree' : 'ISE','teacher' : [13242,12343]}\n",
    "          }"
   ]
  },
  {
   "cell_type": "code",
   "execution_count": 123,
   "id": "0c24cc42",
   "metadata": {},
   "outputs": [
    {
     "data": {
      "text/plain": [
       "{12543: {'name': 'Aman', 'mail': 'abc@gmail.com'},\n",
       " 12255: {'name': 'Karan', 'mail': 'abc@gmail.com'},\n",
       " 12345: {'name': 'Sahil', 'mail': 'abc@gmail.com'},\n",
       " 12434: {'name': 'Varun', 'mail': 'abc@gmail.com'},\n",
       " 13242: {'name': 'Sharath', 'mail': 'abc@gmail.com'},\n",
       " 12544: {'name': 'Manohar', 'mail': 'abc@gmail.com'},\n",
       " 12545: {'name': 'Tarun', 'mail': 'abc@gmail.com'}}"
      ]
     },
     "execution_count": 123,
     "metadata": {},
     "output_type": "execute_result"
    }
   ],
   "source": [
    "teacher"
   ]
  },
  {
   "cell_type": "code",
   "execution_count": 92,
   "id": "3e0ccdaa",
   "metadata": {},
   "outputs": [
    {
     "data": {
      "text/plain": [
       "'Tarun'"
      ]
     },
     "execution_count": 92,
     "metadata": {},
     "output_type": "execute_result"
    }
   ],
   "source": [
    "teacher[section['ise232']['HOD']]['name']"
   ]
  },
  {
   "cell_type": "markdown",
   "id": "785280a1",
   "metadata": {},
   "source": [
    "## Teacher Detail"
   ]
  },
  {
   "cell_type": "code",
   "execution_count": 91,
   "id": "caecab3c",
   "metadata": {},
   "outputs": [],
   "source": [
    "teacher = {12543 : {'name':'Aman',\n",
    "                'mail':'abc@gmail.com'},\n",
    "       \n",
    "       12255 : {'name':'Karan',\n",
    "                'mail':'abc@gmail.com'},\n",
    "       \n",
    "       12345 : {'name':'Sahil',\n",
    "                'mail':'abc@gmail.com'},\n",
    "       \n",
    "       12434 : {'name':'Varun',\n",
    "                'mail':'abc@gmail.com'},\n",
    "       \n",
    "       13242 : {'name':'Sharath',\n",
    "                'mail':'abc@gmail.com'},\n",
    "           \n",
    "        12544 : {'name':'Manohar',\n",
    "                'mail':'abc@gmail.com'},\n",
    "           \n",
    "        12545 : {'name':'Tarun',\n",
    "                'mail':'abc@gmail.com'},\n",
    "                  \n",
    "      }           "
   ]
  },
  {
   "cell_type": "code",
   "execution_count": 97,
   "id": "c5912e57",
   "metadata": {},
   "outputs": [
    {
     "data": {
      "text/plain": [
       "12545"
      ]
     },
     "execution_count": 97,
     "metadata": {},
     "output_type": "execute_result"
    }
   ],
   "source": [
    "section['ise232']['HOD']"
   ]
  },
  {
   "cell_type": "code",
   "execution_count": 128,
   "id": "9de633cd",
   "metadata": {},
   "outputs": [
    {
     "name": "stdout",
     "output_type": "stream",
     "text": [
      "HOD:  Manohar ( 12544 )\n",
      "Degree:  ISE\n",
      "----Teachers----\n",
      "Karan\n",
      "Sahil\n",
      "Varun\n",
      "Sharath\n",
      "---------------\n"
     ]
    }
   ],
   "source": [
    "print(\"HOD: \", teacher[section ['ise233']['HOD']]['name'], '(',section ['ise233']['HOD'],')')\n",
    "print(\"Degree: \", section['ise233']['degree'])\n",
    "print('----Teachers----')\n",
    "\n",
    "for i in section['ise232']['teacher']:\n",
    "    print(teacher[i]['name'])\n",
    "\n",
    "print('---------------')                                                                               "
   ]
  },
  {
   "cell_type": "markdown",
   "id": "dcec25b2",
   "metadata": {},
   "source": [
    "## 3.hirarichy of teachers"
   ]
  },
  {
   "cell_type": "code",
   "execution_count": null,
   "id": "e6dbdb5e",
   "metadata": {},
   "outputs": [],
   "source": []
  }
 ],
 "metadata": {
  "kernelspec": {
   "display_name": "Python 3 (ipykernel)",
   "language": "python",
   "name": "python3"
  },
  "language_info": {
   "codemirror_mode": {
    "name": "ipython",
    "version": 3
   },
   "file_extension": ".py",
   "mimetype": "text/x-python",
   "name": "python",
   "nbconvert_exporter": "python",
   "pygments_lexer": "ipython3",
   "version": "3.10.9"
  }
 },
 "nbformat": 4,
 "nbformat_minor": 5
}
